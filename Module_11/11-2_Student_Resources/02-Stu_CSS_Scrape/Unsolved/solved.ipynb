{
 "cells": [
  {
   "cell_type": "code",
   "execution_count": 1,
   "id": "d949464e",
   "metadata": {},
   "outputs": [],
   "source": [
    " # Import dependencies (BeautifulSoup)\n",
    "    from bs4 import BeautifulSoup"
   ]
  },
  {
   "cell_type": "code",
   "execution_count": 2,
   "id": "7c9dfe6f",
   "metadata": {},
   "outputs": [],
   "source": [
    "# Code from provided HTML file\n",
    "html = \"\"\"\n",
    "<!DOCTYPE html>\n",
    "<html lang=\"en\">\n",
    "\n",
    "<head>\n",
    "    <meta charset=\"UTF-8\">\n",
    "    <meta http-equiv=\"X-UA-Compatible\" content=\"IE=edge\">\n",
    "    <meta name=\"viewport\" content=\"width=device-width, initial-scale=1.0\">\n",
    "    <title>Document</title>\n",
    "</head>\n",
    "\n",
    "<body>\n",
    "    <h1>pandas</h1>\n",
    "    <blockquote>pandas is a powerful Python data analysis library. </blockquote>\n",
    "\n",
    "    <div id=\"start\" , class=\"section\">\n",
    "        <h3 class=\"section-header\">Getting Started</h3>\n",
    "        <ul class=\"pandas-ul\">\n",
    "            <a href=\"https://pandas.pydata.org/getting_started.html\">\n",
    "                <li>Install pandas</li>\n",
    "            </a>\n",
    "            <a href=\"https://pandas.pydata.org/docs/getting_started/index.html\">\n",
    "                <li>Getting started</li>\n",
    "            </a>\n",
    "        </ul>\n",
    "    </div>\n",
    "\n",
    "    <div id=\"documentation\" , class=\"section\">\n",
    "        <h3 class=\"section-header\">Documentation</h3>\n",
    "        <ul class=\"pandas-ul\">\n",
    "            <a href=\"https://pandas.pydata.org/docs/user_guide/index.html\">\n",
    "                <li>User guide</li>\n",
    "            </a>\n",
    "            <a href=\"https://pandas.pydata.org/docs/reference/index.html\">\n",
    "                <li>API reference</li>\n",
    "            </a>\n",
    "            <a href=\"https://pandas.pydata.org/docs/development/index.html\">\n",
    "                <li>How to contribute to pandas</li>\n",
    "            </a>\n",
    "        </ul>\n",
    "    </div>\n",
    "\n",
    "    <div id=\"community\" , class=\"section\">\n",
    "        <h3 class=\"section-header\">The pandas Community</h3>\n",
    "        <ul class=\"pandas-ul\">\n",
    "            <a href=\"https://pandas.pydata.org/about/index.html\">\n",
    "                <li>More about pandas</li>\n",
    "            </a>\n",
    "            <a href=\"https://stackoverflow.com/questions/tagged/pandas\">\n",
    "                <li>Have questions?</li>\n",
    "            </a>\n",
    "            <a href=\"https://pandas.pydata.org/community/ecosystem.html\">\n",
    "                <li>The pandas ecosystem</li>\n",
    "            </a>\n",
    "        </ul>\n",
    "    </div>\n",
    "</body>\n",
    "\n",
    "</html>\n",
    "\"\"\""
   ]
  },
  {
   "cell_type": "code",
   "execution_count": 3,
   "id": "4cccb616",
   "metadata": {},
   "outputs": [],
   "source": [
    "# Create an instance of Beautiful Soup to parse the HTML\n",
    "soup = BeautifulSoup(html, 'html.parser')"
   ]
  },
  {
   "cell_type": "code",
   "execution_count": 4,
   "id": "d2661a60",
   "metadata": {},
   "outputs": [
    {
     "data": {
      "text/plain": [
       "[<h3 class=\"section-header\">Getting Started</h3>,\n",
       " <h3 class=\"section-header\">Documentation</h3>,\n",
       " <h3 class=\"section-header\">The pandas Community</h3>]"
      ]
     },
     "execution_count": 4,
     "metadata": {},
     "output_type": "execute_result"
    }
   ],
   "source": [
    "# Create variable to find format of headers ('h3' specifically)\n",
    "all_titles = soup.find_all('h3')\n",
    "all_titles"
   ]
  },
  {
   "cell_type": "code",
   "execution_count": 5,
   "id": "ab4ddb23",
   "metadata": {},
   "outputs": [
    {
     "data": {
      "text/plain": [
       "['Getting Started', 'Documentation', 'The pandas Community']"
      ]
     },
     "execution_count": 5,
     "metadata": {},
     "output_type": "execute_result"
    }
   ],
   "source": [
    "# Find text for all 'h3' level headers\n",
    "titles = [title.text for title in all_titles]\n",
    "titles"
   ]
  },
  {
   "cell_type": "code",
   "execution_count": 6,
   "id": "2872fd2c",
   "metadata": {},
   "outputs": [
    {
     "data": {
      "text/plain": [
       "<div ,=\"\" class=\"section\" id=\"start\">\n",
       "<h3 class=\"section-header\">Getting Started</h3>\n",
       "<ul class=\"pandas-ul\">\n",
       "<a href=\"https://pandas.pydata.org/getting_started.html\">\n",
       "<li>Install pandas</li>\n",
       "</a>\n",
       "<a href=\"https://pandas.pydata.org/docs/getting_started/index.html\">\n",
       "<li>Getting started</li>\n",
       "</a>\n",
       "</ul>\n",
       "</div>"
      ]
     },
     "execution_count": 6,
     "metadata": {},
     "output_type": "execute_result"
    }
   ],
   "source": [
    "# Defining variable Start section \n",
    "start_section = soup.find('div', id=\"start\")\n",
    "start_section"
   ]
  },
  {
   "cell_type": "code",
   "execution_count": 7,
   "id": "737c7ae7",
   "metadata": {},
   "outputs": [
    {
     "data": {
      "text/plain": [
       "'Getting Started'"
      ]
     },
     "execution_count": 7,
     "metadata": {},
     "output_type": "execute_result"
    }
   ],
   "source": [
    "start_description = start_section.find('h3').text\n",
    "start_description"
   ]
  },
  {
   "cell_type": "code",
   "execution_count": 8,
   "id": "5062be33",
   "metadata": {},
   "outputs": [
    {
     "data": {
      "text/plain": [
       "[<a href=\"https://pandas.pydata.org/getting_started.html\">\n",
       " <li>Install pandas</li>\n",
       " </a>,\n",
       " <a href=\"https://pandas.pydata.org/docs/getting_started/index.html\">\n",
       " <li>Getting started</li>\n",
       " </a>]"
      ]
     },
     "execution_count": 8,
     "metadata": {},
     "output_type": "execute_result"
    }
   ],
   "source": [
    "start_links = start_section.find_all('a')\n",
    "start_links"
   ]
  },
  {
   "cell_type": "code",
   "execution_count": 9,
   "id": "8fd43e1d",
   "metadata": {},
   "outputs": [
    {
     "data": {
      "text/plain": [
       "['https://pandas.pydata.org/getting_started.html',\n",
       " 'https://pandas.pydata.org/docs/getting_started/index.html']"
      ]
     },
     "execution_count": 9,
     "metadata": {},
     "output_type": "execute_result"
    }
   ],
   "source": [
    "start_urls = [link['href'] for link in start_links]\n",
    "start_urls"
   ]
  },
  {
   "cell_type": "code",
   "execution_count": 10,
   "id": "882ce6b9",
   "metadata": {},
   "outputs": [
    {
     "data": {
      "text/plain": [
       "['https://pandas.pydata.org/getting_started.html',\n",
       " 'https://pandas.pydata.org/docs/getting_started/index.html',\n",
       " 'https://pandas.pydata.org/docs/user_guide/index.html',\n",
       " 'https://pandas.pydata.org/docs/reference/index.html',\n",
       " 'https://pandas.pydata.org/docs/development/index.html',\n",
       " 'https://pandas.pydata.org/about/index.html',\n",
       " 'https://stackoverflow.com/questions/tagged/pandas',\n",
       " 'https://pandas.pydata.org/community/ecosystem.html']"
      ]
     },
     "execution_count": 10,
     "metadata": {},
     "output_type": "execute_result"
    }
   ],
   "source": [
    " # All URLs\n",
    "all_urls = [link['href'] for link in soup.find_all('a')]\n",
    "all_urls"
   ]
  },
  {
   "cell_type": "code",
   "execution_count": 11,
   "id": "009bc3a3",
   "metadata": {},
   "outputs": [],
   "source": [
    " # BONUS: Compile a dictionary of titles and URLs\n",
    "pandas_info_dict = {}"
   ]
  },
  {
   "cell_type": "code",
   "execution_count": 12,
   "id": "6ec7c989",
   "metadata": {},
   "outputs": [],
   "source": [
    "all_divs = soup.find_all('div')\n",
    "for div in all_divs:\n",
    "    div_description = div.find('h3').text\n",
    "    urls = [link['href'] for link in div.find_all('a')]\n",
    "    pandas_info_dict[div_description] = urls    "
   ]
  },
  {
   "cell_type": "code",
   "execution_count": 13,
   "id": "f0f11133",
   "metadata": {},
   "outputs": [
    {
     "data": {
      "text/plain": [
       "{'Getting Started': ['https://pandas.pydata.org/getting_started.html',\n",
       "  'https://pandas.pydata.org/docs/getting_started/index.html'],\n",
       " 'Documentation': ['https://pandas.pydata.org/docs/user_guide/index.html',\n",
       "  'https://pandas.pydata.org/docs/reference/index.html',\n",
       "  'https://pandas.pydata.org/docs/development/index.html'],\n",
       " 'The pandas Community': ['https://pandas.pydata.org/about/index.html',\n",
       "  'https://stackoverflow.com/questions/tagged/pandas',\n",
       "  'https://pandas.pydata.org/community/ecosystem.html']}"
      ]
     },
     "execution_count": 13,
     "metadata": {},
     "output_type": "execute_result"
    }
   ],
   "source": [
    " pandas_info_dict"
   ]
  },
  {
   "cell_type": "code",
   "execution_count": 14,
   "id": "cb6ac71b",
   "metadata": {},
   "outputs": [],
   "source": [
    "# Using a for-loop\n",
    "alternate_dict = {}\n",
    "for div in all_divs:\n",
    "    div_desc = div.find('h3').text\n",
    "    div_urls = div.find_all('a')\n",
    "    url_list = []\n",
    "    for url in div_urls:\n",
    "        url_list.append(url['href'])\n",
    "    alternate_dict[div_desc] = url_list   "
   ]
  },
  {
   "cell_type": "code",
   "execution_count": 15,
   "id": "9cc6f843",
   "metadata": {},
   "outputs": [
    {
     "data": {
      "text/plain": [
       "{'Getting Started': ['https://pandas.pydata.org/getting_started.html',\n",
       "  'https://pandas.pydata.org/docs/getting_started/index.html'],\n",
       " 'Documentation': ['https://pandas.pydata.org/docs/user_guide/index.html',\n",
       "  'https://pandas.pydata.org/docs/reference/index.html',\n",
       "  'https://pandas.pydata.org/docs/development/index.html'],\n",
       " 'The pandas Community': ['https://pandas.pydata.org/about/index.html',\n",
       "  'https://stackoverflow.com/questions/tagged/pandas',\n",
       "  'https://pandas.pydata.org/community/ecosystem.html']}"
      ]
     },
     "execution_count": 15,
     "metadata": {},
     "output_type": "execute_result"
    }
   ],
   "source": [
    "alternate_dict"
   ]
  },
  {
   "cell_type": "code",
   "execution_count": 16,
   "id": "e6c133f6",
   "metadata": {},
   "outputs": [
    {
     "data": {
      "text/plain": [
       "{'Getting Started': ['https://pandas.pydata.org/getting_started.html',\n",
       "  'https://pandas.pydata.org/docs/getting_started/index.html'],\n",
       " 'Documentation': ['https://pandas.pydata.org/docs/user_guide/index.html',\n",
       "  'https://pandas.pydata.org/docs/reference/index.html',\n",
       "  'https://pandas.pydata.org/docs/development/index.html'],\n",
       " 'The pandas Community': ['https://pandas.pydata.org/about/index.html',\n",
       "  'https://stackoverflow.com/questions/tagged/pandas',\n",
       "  'https://pandas.pydata.org/community/ecosystem.html']}"
      ]
     },
     "execution_count": 16,
     "metadata": {},
     "output_type": "execute_result"
    }
   ],
   "source": [
    "# Bonus dictionary for links\n",
    "total_sections = soup.find_all(\"div\", class_=\"section\")\n",
    "grouped_urls = {}\n",
    "\n",
    "for section in total_sections:\n",
    "    grouped_urls[section.h3.text] = []\n",
    "    urls = section.find_all('a')\n",
    "    for url in urls:\n",
    "        grouped_urls[section.h3.text].append(url[\"href\"])\n",
    "        \n",
    "grouped_urls\n"
   ]
  },
  {
   "cell_type": "code",
   "execution_count": null,
   "id": "a2d00971",
   "metadata": {},
   "outputs": [],
   "source": []
  }
 ],
 "metadata": {
  "kernelspec": {
   "display_name": "PythonData",
   "language": "python",
   "name": "pythondata"
  },
  "language_info": {
   "codemirror_mode": {
    "name": "ipython",
    "version": 3
   },
   "file_extension": ".py",
   "mimetype": "text/x-python",
   "name": "python",
   "nbconvert_exporter": "python",
   "pygments_lexer": "ipython3",
   "version": "3.9.13"
  }
 },
 "nbformat": 4,
 "nbformat_minor": 5
}
